{
 "cells": [
  {
   "cell_type": "code",
   "execution_count": 1,
   "metadata": {},
   "outputs": [],
   "source": [
    "import random\n",
    "import pickle as pkl\n",
    "\n",
    "import numpy as np\n",
    "\n",
    "import torch\n",
    "import torch.nn as nn\n",
    "import torch.nn.functional as F\n",
    "from torch.utils.data import Dataset\n",
    "\n",
    "import datetime as dt\n",
    "\n",
    "import matplotlib.pyplot as plt\n",
    "%matplotlib inline\n",
    "\n",
    "random.seed(134)"
   ]
  },
  {
   "cell_type": "code",
   "execution_count": 2,
   "metadata": {},
   "outputs": [],
   "source": [
    "from funcs import readData, loadEmbeddings, hwDataset, hwCollateFn, RNNEncoder, CNNEncoder, testModel\n",
    "\n",
    "train_data, val_data, char2id, id2char, MAX_X1, MAX_X2, label2id, id2label = readData()\n",
    "weights_tensor = loadEmbeddings(char2id)\n",
    "\n",
    "BATCH_SIZE = 200\n",
    "\n",
    "train_dataset = hwDataset(train_data, char2id, label2id)\n",
    "train_loader = torch.utils.data.DataLoader(dataset=train_dataset,\n",
    "                                           batch_size=BATCH_SIZE,\n",
    "                                           collate_fn=hwCollateFn,\n",
    "                                           shuffle=True)\n",
    "val_dataset = hwDataset(val_data, char2id, label2id)\n",
    "val_loader = torch.utils.data.DataLoader(dataset=val_dataset,\n",
    "                                           batch_size=BATCH_SIZE,\n",
    "                                           collate_fn=hwCollateFn,\n",
    "                                           shuffle=True)"
   ]
  },
  {
   "cell_type": "code",
   "execution_count": 18,
   "metadata": {},
   "outputs": [
    {
     "name": "stdout",
     "output_type": "stream",
     "text": [
      "[['Three', 'people', 'and', 'a', 'white', 'dog', 'are', 'sitting', 'in', 'the', 'sand', 'on', 'a', 'beach', '.'], ['Three', 'dogs', 'and', 'a', 'person', 'are', 'sitting', 'in', 'the', 'snow', '.'], 'contradiction']\n"
     ]
    }
   ],
   "source": [
    "for data in val_data:\n",
    "    if ' '.join(data[0]) == \"Three people and a white dog are sitting in the sand on a beach .\":\n",
    "        print(data)\n",
    "        break"
   ]
  },
  {
   "cell_type": "code",
   "execution_count": 22,
   "metadata": {},
   "outputs": [
    {
     "name": "stdout",
     "output_type": "stream",
     "text": [
      "[['A', 'young', 'woman', 'seated', 'at', 'a', 'table', 'on', 'what', 'appears', 'to', 'be', 'a', 'backyard', 'deck', 'holds', 'a', 'toddler', ',', 'giving', 'him', 'a', 'toy', 'or', 'bottle', 'of', 'some', 'sort', ',', 'while', 'smiling', 'into', 'the', 'camera', '.'], ['The', 'woman', 'is', 'changing', 'the', 'boy', \"'s\", 'diaper', '.'], 'contradiction']\n"
     ]
    }
   ],
   "source": [
    "for data in val_data:\n",
    "    if ' '.join(data[0]) == \"A young woman seated at a table on what appears to be a backyard deck holds a toddler , giving him a toy or bottle of some sort , while smiling into the camera .\":\n",
    "        print(data)\n",
    "        break"
   ]
  },
  {
   "cell_type": "code",
   "execution_count": null,
   "metadata": {},
   "outputs": [],
   "source": []
  },
  {
   "cell_type": "code",
   "execution_count": 4,
   "metadata": {},
   "outputs": [],
   "source": [
    "NUM_EPOCHS = 10\n",
    "\n",
    "DATA = {'weights_tensor':weights_tensor,\n",
    "        'train_loader':train_loader,\n",
    "        'val_loader':val_loader}\n",
    "\n",
    "CNN_PARAMS = {'num_epochs':NUM_EPOCHS,\n",
    "          'hidden_size':250,\n",
    "          'weight_decay':0.0001,\n",
    "          'vocab_size':len(id2char),\n",
    "          'kernel_size':3}\n",
    "\n",
    "RNN_PARAMS = {'num_epochs':NUM_EPOCHS,\n",
    "          'hidden_size':250,\n",
    "          'weight_decay':0,\n",
    "          'vocab_size':len(id2char),\n",
    "          'kernel_size':3}\n",
    "\n",
    "\n",
    "rnn_model = RNNEncoder(DATA, RNN_PARAMS, num_layers=1, num_classes=3)\n",
    "rnn_model.load_state_dict(torch.load('rnn.pt'))\n",
    "cnn_model = CNNEncoder(DATA, CNN_PARAMS, num_layers=2, num_classes=3)\n",
    "cnn_model.load_state_dict(torch.load('cnn.pt'))"
   ]
  },
  {
   "cell_type": "code",
   "execution_count": 5,
   "metadata": {},
   "outputs": [],
   "source": [
    "miss = []\n",
    "hit = []\n",
    "\n",
    "for j, (x1, x2, labels) in enumerate(val_loader):\n",
    "    if j >= 2:\n",
    "        break\n",
    "    outputs = F.softmax(cnn_model(x1, x2), dim=1)\n",
    "    predicted = outputs.max(1, keepdim=True)[1]\n",
    "    for c, b in enumerate(zip(labels, predicted)):\n",
    "        n, m = b\n",
    "        if n != m:\n",
    "            if len(miss) < 3:\n",
    "                miss.append((' '.join([id2char[x] for x in x1[c].tolist() if x > 1]), \n",
    "                             ' '.join([id2char[x] for x in x2[c].tolist() if x > 1]),\n",
    "                             int(n), int(m)))\n",
    "        else:\n",
    "            if len(hit) < 3:\n",
    "                hit.append((' '.join([id2char[x] for x in x1[c].tolist() if x > 1]), \n",
    "                             ' '.join([id2char[x] for x in x2[c].tolist() if x > 1]),\n",
    "                             int(n), int(m)))"
   ]
  },
  {
   "cell_type": "code",
   "execution_count": 9,
   "metadata": {},
   "outputs": [
    {
     "data": {
      "text/plain": [
       "[('Three people and a white dog are sitting in the sand on a beach .',\n",
       "  'Three dogs and a person are sitting in the snow .',\n",
       "  2,\n",
       "  0),\n",
       " ('A young woman seated at a table on what appears to be a backyard deck holds a toddler , giving him a toy or bottle of some sort , while smiling into the camera .',\n",
       "  \"The woman is changing the boy 's diaper .\",\n",
       "  2,\n",
       "  1),\n",
       " ('A husky and a black cat nuzzling .', 'A dog and cat are friendly .', 0, 2)]"
      ]
     },
     "execution_count": 9,
     "metadata": {},
     "output_type": "execute_result"
    }
   ],
   "source": [
    "miss"
   ]
  },
  {
   "cell_type": "code",
   "execution_count": 10,
   "metadata": {},
   "outputs": [
    {
     "data": {
      "text/plain": [
       "[('A soccer player wearing white shorts and an orange and green shirt holds the ball while being guarded by another soccer player in a blue uniform .',\n",
       "  'A football player throws a touchdown pass .',\n",
       "  2,\n",
       "  2),\n",
       " ('Old woman chasing away two lambs with a broom .',\n",
       "  'A woman is chasing two turtles with a mop .',\n",
       "  2,\n",
       "  2),\n",
       " ('A line of people waiting outside The Magpie cafe during the day .',\n",
       "  'A man makes a sandwich .',\n",
       "  2,\n",
       "  2)]"
      ]
     },
     "execution_count": 10,
     "metadata": {},
     "output_type": "execute_result"
    }
   ],
   "source": [
    "hit"
   ]
  },
  {
   "cell_type": "code",
   "execution_count": 23,
   "metadata": {},
   "outputs": [],
   "source": [
    "mnli_val = pkl.load(open(\"hw2_data/mnli_val.p\", \"rb\"))"
   ]
  },
  {
   "cell_type": "code",
   "execution_count": 24,
   "metadata": {},
   "outputs": [],
   "source": [
    "genre_rnn = []\n",
    "genre_cnn = []\n",
    "\n",
    "for genre in ['fiction', 'telephone', 'slate', 'government', 'travel']:\n",
    "    genre_data = [[v[0], v[1], v[2]] for v in mnli_val if v[3] == genre]\n",
    "    genre_dataset = hwDataset(genre_data, char2id, label2id)\n",
    "    genre_loader = torch.utils.data.DataLoader(dataset=genre_dataset,\n",
    "                                               batch_size=BATCH_SIZE,\n",
    "                                               collate_fn=hwCollateFn,\n",
    "                                               shuffle=True)\n",
    "    \n",
    "    genre_rnn.append(testModel(genre_loader, rnn_model))\n",
    "    genre_cnn.append(testModel(genre_loader, cnn_model))"
   ]
  },
  {
   "cell_type": "code",
   "execution_count": 25,
   "metadata": {},
   "outputs": [
    {
     "data": {
      "text/plain": [
       "[31.758793969849247,\n",
       " 33.53233830845771,\n",
       " 29.74051896207585,\n",
       " 34.84251968503937,\n",
       " 33.70672097759674]"
      ]
     },
     "execution_count": 25,
     "metadata": {},
     "output_type": "execute_result"
    }
   ],
   "source": [
    "genre_rnn"
   ]
  },
  {
   "cell_type": "code",
   "execution_count": 30,
   "metadata": {},
   "outputs": [
    {
     "data": {
      "text/plain": [
       "[('fiction', 45.59436913451512),\n",
       " ('telephone', 43.98126463700234),\n",
       " ('slate', 41.97714853452558),\n",
       " ('government', 41.437033221735774),\n",
       " ('travel', 41.68130489335006)]"
      ]
     },
     "execution_count": 30,
     "metadata": {},
     "output_type": "execute_result"
    }
   ],
   "source": [
    "with open(\"rnnGenre.p\", \"rb\") as f:\n",
    "    rnn_results = pkl.load(f)\n",
    "\n",
    "[(x[0], max(x[1]))  for x in rnn_results]"
   ]
  },
  {
   "cell_type": "code",
   "execution_count": 31,
   "metadata": {},
   "outputs": [
    {
     "data": {
      "text/plain": [
       "[('fiction', 53.206465067778936),\n",
       " ('telephone', 53.25526932084309),\n",
       " ('slate', 50.81967213114754),\n",
       " ('government', 53.56682977079578),\n",
       " ('travel', 53.14930991217064)]"
      ]
     },
     "execution_count": 31,
     "metadata": {},
     "output_type": "execute_result"
    }
   ],
   "source": [
    "with open(\"cnnGenre.p\", \"rb\") as f:\n",
    "    cnn_results = pkl.load(f)\n",
    "\n",
    "[(x[0], max(x[1]))  for x in cnn_results]"
   ]
  },
  {
   "cell_type": "code",
   "execution_count": null,
   "metadata": {},
   "outputs": [],
   "source": [
    "from IPython.display import Image\n",
    "Image(filename=\"figures/cnn_wd_1e4.png\", width=200, height=200)"
   ]
  }
 ],
 "metadata": {
  "kernelspec": {
   "display_name": "Python 3",
   "language": "python",
   "name": "python3"
  },
  "language_info": {
   "codemirror_mode": {
    "name": "ipython",
    "version": 3
   },
   "file_extension": ".py",
   "mimetype": "text/x-python",
   "name": "python",
   "nbconvert_exporter": "python",
   "pygments_lexer": "ipython3",
   "version": "3.7.0"
  }
 },
 "nbformat": 4,
 "nbformat_minor": 2
}
